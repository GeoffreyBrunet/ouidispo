get_ipython().run_line_magic("matplotlib", " inline")
get_ipython().run_line_magic("config", " InlineBackend.figure_format='retina'")

import pandas as pd
import matplotlib.pyplot as plt
import seaborn as sns
import numpy as np
import xgboost as xgb


df = pd.read_csv("https://www.data.gouv.fr/fr/datasets/r/e32f7675-913b-4e01-b8c8-0a29733e4407", delimiter=';')
df.info(verbose=True)


df.describe(include='all')


df.head(10)


to_drop = [
           'adresse',
           'nom',
           'id',
           'url',
           'type_usagers',
           'tarif_pmr',
           'type_ouvrage',
           'info',
           'id_source'
          ]
df.drop(to_drop, inplace=True, axis=1)
df.info(verbose=True)


df['nb_pr'] = df['nb_pr'].replace(np.nan, 0)
df['nb_pmr'] = df['nb_pmr'].replace(np.nan, 0)
df['nb_voitures_electriques'] = df['nb_voitures_electriques'].replace(np.nan, 0)
df['nb_velo'] = df['nb_velo'].replace(np.nan, 0)
df['nb_2r_el'] = df['nb_2r_el'].replace(np.nan, 0)
df['nb_autopartage'] = df['nb_autopartage'].replace(np.nan, 0)
df['nb_2_rm'] = df['nb_2_rm'].replace(np.nan, 0)
df['nb_covoit'] = df['nb_covoit'].replace(np.nan, 0)
df['hauteur_max'] = df['hauteur_max'].replace(np.nan, 0)
df['abo_resident'] = df['abo_resident'].replace(np.nan,-1)
df['abo_non_resident'] = df['abo_non_resident'].replace(np.nan,-1)
df.isnull().sum()


plt.figure(figsize=(12,8))
sns.heatmap(df.corr(), annot=True)
plt.title('Heatmap of raw data')
plt.tight_layout()


plt.bar(df['nb_places'], df['insee'])
plt.xlabel('X')
plt.ylabel('Y')
plt.title('Title')
plt.show()



